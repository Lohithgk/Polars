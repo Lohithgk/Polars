{
 "cells": [
  {
   "cell_type": "code",
   "execution_count": null,
   "metadata": {},
   "outputs": [],
   "source": [
    "import polars as pl\n",
    "\n",
    "# Create a DataFrame\n",
    "df = pl.DataFrame(\n",
    "    {\n",
    "        \"Fruit\":    [\"Apple\", \"Banana\", \"Cherry\", \"Date\", \"Elderberry\", \"Fig\", \"Guava\"],\n",
    "        \"Quantity\": [15, 25, 5, 12, 14, 8, 10],\n",
    "        \"Price\":    [1.5, 0.5, 2.0, 1.0, 2.5, 1.75, 1.0]\n",
    "    }\n",
    ")\n",
    "\n",
    "# Example method chaining\n",
    "df = (df\n",
    " .filter(pl.col(\"Quantity\") > 10)\n",
    " .groupby(\"Fruit\")\n",
    " .agg(pl.sum(\"Price\"))\n",
    " .sort(\"Price\", descending= True)\n",
    ")\n",
    "\n",
    "display(df)"
   ]
  },
  {
   "cell_type": "code",
   "execution_count": null,
   "metadata": {},
   "outputs": [],
   "source": [
    "import polars as pl\n",
    "\n",
    "# Create a DataFrame\n",
    "df = pl.DataFrame(\n",
    "    {\n",
    "        \"Fruit\":    [\"Apple\", \"Banana\", \"Cherry\", \"Date\", \"Elderberry\", \"Fig\", \"Guava\"],\n",
    "        \"Quantity\": [15, 25, 5, 12, 14, 8, 10],\n",
    "        \"Price\":    [1.5, 0.5, 2.0, 1.0, 2.5, 1.75, 1.0]\n",
    "    }\n",
    ")\n",
    "\n",
    "def filter_by_quantity(df):\n",
    "    return df.filter(pl.col(\"Quantity\") > 10)\n",
    "\n",
    "def sort_by_price(df):\n",
    "    return df.sort(\"Price\", descending= True)\n",
    "\n",
    "def group_and_agg(df):\n",
    "    return df.groupby(\"Fruit\").agg(pl.mean(\"Price\"), pl.mean('Quantity'))\n",
    "\n",
    "df2 = (df\n",
    "      .pipe(filter_by_quantity)\n",
    "      .pipe(group_and_agg)\n",
    "      .pipe(sort_by_price)       \n",
    "      )\n",
    "\n",
    "display(df2)"
   ]
  }
 ],
 "metadata": {
  "language_info": {
   "name": "python"
  }
 },
 "nbformat": 4,
 "nbformat_minor": 2
}
